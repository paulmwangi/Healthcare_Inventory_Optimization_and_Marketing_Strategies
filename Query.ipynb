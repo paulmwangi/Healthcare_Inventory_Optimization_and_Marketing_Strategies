{
 "cells": [
  {
   "cell_type": "markdown",
   "metadata": {},
   "source": [
    "## Inventory and Pricing Analysis Report(SQL)"
   ]
  },
  {
   "cell_type": "code",
   "execution_count": 1,
   "metadata": {},
   "outputs": [],
   "source": [
    "import pandas as pd\n",
    "import sqlite3\n"
   ]
  },
  {
   "cell_type": "code",
   "execution_count": 2,
   "metadata": {},
   "outputs": [
    {
     "data": {
      "text/plain": [
       "5"
      ]
     },
     "execution_count": 2,
     "metadata": {},
     "output_type": "execute_result"
    }
   ],
   "source": [
    "# Read CSV files into DataFrames\n",
    "inv_item = pd.read_csv('inv_item_exported.csv')\n",
    "inv_item_price = pd.read_csv('inv_item_price_exported.csv')\n",
    "inv_item_stock = pd.read_csv('inv_item_stock_exported.csv')\n",
    "inv_stockroom = pd.read_csv('inv_stockroom_exported.csv')\n",
    "\n",
    "# Creact SQLite database \n",
    "conn = sqlite3.connect('inventory.db')\n",
    "\n",
    "# Write DataFrames to SQLite tables\n",
    "inv_item.to_sql('inv_item', conn, if_exists='replace', index=False)\n",
    "inv_item_price.to_sql('inv_item_price', conn, if_exists='replace', index=False)\n",
    "inv_item_stock.to_sql('inv_item_stock', conn, if_exists='replace', index=False)\n",
    "inv_stockroom.to_sql('inv_stockroom', conn, if_exists='replace', index=False)"
   ]
  },
  {
   "cell_type": "markdown",
   "metadata": {},
   "source": [
    "# Why SQLite3?\n",
    "\n",
    "In this project, we chose to use SQLite3 for several reasons:\n",
    "\n",
    "1. **Lightweight and Easy to Use**: SQLite3 is a lightweight database engine that is easy to set up and use. It doesn't require a separate server process, making it ideal for small to medium-sized projects and for use in development environments.\n",
    "\n",
    "2. **Integration with Python**: SQLite3 has excellent integration with Python through the `sqlite3` module, which is included in the Python standard library. This makes it straightforward to create, query, and manage SQLite databases directly from Python code.\n",
    "\n",
    "3. **Portability**: SQLite databases are stored in a single file, making them highly portable. This is useful for sharing the database with others or moving it between different environments.\n",
    "\n",
    "4. **Performance**: For many use cases, SQLite3 provides sufficient performance. It is optimized for read-heavy operations and can handle moderate write loads efficiently.\n",
    "\n",
    "5. **SQL Support**: SQLite3 supports most of the SQL standard, allowing us to use familiar SQL queries to interact with the database. This makes it easy to perform complex queries and data manipulations.\n",
    "\n",
    "6. **No Configuration Required**: Unlike other database systems, SQLite3 requires no configuration or administration. This reduces the overhead of managing the database and allows us to focus on the data analysis tasks.\n",
    "\n",
    "Overall, SQLite3 provides a simple, efficient, and effective solution for managing and querying the inventory data in this project."
   ]
  },
  {
   "cell_type": "code",
   "execution_count": 3,
   "metadata": {},
   "outputs": [
    {
     "name": "stdout",
     "output_type": "stream",
     "text": [
      "    inventory_status  average_price\n",
      "0     With Inventory      277.46309\n",
      "1  Without Inventory       24.00000\n"
     ]
    }
   ],
   "source": [
    "# 1. Average price of items with physical inventory and those without\n",
    "query1 = \"\"\"\n",
    "SELECT \n",
    "    CASE WHEN has_physical_inventory = 1 THEN 'With Inventory' ELSE 'Without Inventory' END AS inventory_status,\n",
    "    AVG(buying_price) AS average_price\n",
    "FROM inv_item\n",
    "WHERE buying_price IS NOT NULL\n",
    "GROUP BY inventory_status;\n",
    "\n",
    "\"\"\"\n",
    "result1 = pd.read_sql_query(query1, conn)\n",
    "\n",
    "print(result1)"
   ]
  },
  {
   "cell_type": "markdown",
   "metadata": {},
   "source": [
    "The output of the query provides insights into the average buying price of items based on their inventory status.By understanding the price differences and inventory status, the marketing team can tailor their strategies to maximize sales and manage inventory more effectively."
   ]
  },
  {
   "cell_type": "code",
   "execution_count": 4,
   "metadata": {},
   "outputs": [
    {
     "name": "stdout",
     "output_type": "stream",
     "text": [
      "   stockroom_id  total_quantity\n",
      "0           342           90669\n"
     ]
    }
   ],
   "source": [
    "\n",
    "# 2. Show which storeroom has the most inventory\n",
    "query2 = \"\"\"\n",
    "SELECT stockroom_id, SUM(quantity) AS total_quantity\n",
    "FROM inv_item_stock\n",
    "GROUP BY stockroom_id\n",
    "ORDER BY total_quantity DESC\n",
    "LIMIT 1\n",
    "\"\"\"\n",
    "result2 = pd.read_sql_query(query2, conn)\n",
    "print(result2)\n",
    "\n"
   ]
  },
  {
   "cell_type": "markdown",
   "metadata": {},
   "source": [
    "By prioritizing the stockroom with the highest inventory levels, the marketing team can optimize their promotional strategies and achieve more efficient inventory management. This approach ensures that high-demand items are readily available, reducing the risk of stockouts and enhancing overall customer satisfaction.\n"
   ]
  },
  {
   "cell_type": "code",
   "execution_count": 5,
   "metadata": {},
   "outputs": [
    {
     "name": "stdout",
     "output_type": "stream",
     "text": [
      "      item_id price  minutes_since_modified\n",
      "0        90.0   OPD                28746107\n",
      "1        30.0   OPD                28746107\n",
      "2       635.0   OPD                28746107\n",
      "3       880.0   OPD                28746107\n",
      "4       515.0   OPD                28746107\n",
      "...       ...   ...                     ...\n",
      "1061   1105.0  None                28746107\n",
      "1062      7.0  None                28746107\n",
      "1063    120.0  None                28746107\n",
      "1064    110.0  None                28746107\n",
      "1065      1.5  None                28746107\n",
      "\n",
      "[1066 rows x 3 columns]\n"
     ]
    }
   ],
   "source": [
    "# 3. Time in minutes since item prices were last modified\n",
    "query3 = \"\"\"\n",
    "SELECT item_id, price,\n",
    "       (strftime('%s', 'now') - strftime('%s', date_changed)) / 60 AS minutes_since_modified\n",
    "FROM inv_item_price;\n",
    "\"\"\"\n",
    "result3 = pd.read_sql_query(query3, conn)\n",
    "print(result3)\n",
    "\n"
   ]
  },
  {
   "cell_type": "markdown",
   "metadata": {},
   "source": [
    "By addressing these points, the marketing team can ensure that their pricing strategies are up-to-date and effective, which can lead to improved sales and customer satisfaction."
   ]
  },
  {
   "cell_type": "code",
   "execution_count": 6,
   "metadata": {},
   "outputs": [
    {
     "name": "stdout",
     "output_type": "stream",
     "text": [
      "     item_stock_id  stockroom_id  item_id  quantity  \\\n",
      "0               10           343     1587         4   \n",
      "1               33           343     1579         2   \n",
      "2               41           343     1577         4   \n",
      "3               46           343     1508         4   \n",
      "4               51           343     1543         0   \n",
      "..             ...           ...      ...       ...   \n",
      "105          34469           344     1582      -100   \n",
      "106          34493           342     1296         1   \n",
      "107          34500           346     1130       -21   \n",
      "108          34501           346      883       -10   \n",
      "109          34502           342     1452       -15   \n",
      "\n",
      "                                     uuid  \n",
      "0    0954290b-6ec1-40d2-bbc8-19c25d44f178  \n",
      "1    916501cc-6e2f-4109-97e2-de625d451b4a  \n",
      "2    0712ac78-2ae2-44c5-b07c-b3fdd194511b  \n",
      "3    c7b0f721-753a-4a50-83ce-db79b5913831  \n",
      "4    e468153f-846d-4955-a221-65aa55fa93d8  \n",
      "..                                    ...  \n",
      "105  96f7719f-6de8-469a-836c-21f690c81415  \n",
      "106  53df0941-a82a-404c-8f63-a01531f1ba03  \n",
      "107  75f0b0aa-2f93-470f-af09-12411328bec1  \n",
      "108  746f81ee-48e2-409c-b630-13c9fda32d36  \n",
      "109  ccb365f0-5979-4857-a15a-9315817a0d80  \n",
      "\n",
      "[110 rows x 5 columns]\n"
     ]
    }
   ],
   "source": [
    "\n",
    "# 4. List items that are running out of stock\n",
    "query4 = \"\"\"\n",
    "SELECT * FROM inv_item_stock\n",
    "WHERE quantity < 5\n",
    "\"\"\"\n",
    "result4 = pd.read_sql_query(query4, conn)\n",
    "print(result4)\n"
   ]
  },
  {
   "cell_type": "markdown",
   "metadata": {},
   "source": [
    "The marketing team can ensure that inventory levels are maintained, discrepancies are resolved, and promotional strategies are effectively implemented to maximize sales and customer satisfaction."
   ]
  },
  {
   "cell_type": "code",
   "execution_count": 7,
   "metadata": {},
   "outputs": [
    {
     "name": "stdout",
     "output_type": "stream",
     "text": [
      "                                    item_name  current_quantity  \\\n",
      "0                                 Cannula G24                 0   \n",
      "1                          Vitamin B12 1mg/Ml                 0   \n",
      "2                        Aspirin(cardi)- 80mg                 0   \n",
      "3  Normal Saline - 500ml 0.9% NA+CL 1/2 liter                 0   \n",
      "\n",
      "   minutes_since_changed  \n",
      "0              5104845.0  \n",
      "1              5107824.0  \n",
      "2              4950954.0  \n",
      "3              5104830.0  \n"
     ]
    }
   ],
   "source": [
    "# 5. List items whose quantity is Zero (0) and how long (In minutes) they have been in this state\n",
    "query5 = \"\"\"\n",
    "SELECT\n",
    "    i.name AS item_name,\n",
    "    s.quantity AS current_quantity,\n",
    "    ROUND((julianday('now') - julianday(i.date_changed)) * 24 * 60) AS minutes_since_changed\n",
    "FROM inv_item AS i\n",
    "INNER JOIN inv_item_stock AS s ON i.item_id = s.item_id\n",
    "WHERE s.quantity = 0;\n",
    "\n",
    "\"\"\"\n",
    "result5 = pd.read_sql_query(query5, conn)\n",
    "print(result5)"
   ]
  },
  {
   "cell_type": "markdown",
   "metadata": {},
   "source": [
    "The marketing team can ensure that inventory levels are maintained, restocking is prioritized effectively, and promotional strategies are implemented to maximize sales and customer satisfaction."
   ]
  },
  {
   "cell_type": "markdown",
   "metadata": {},
   "source": [
    "### In Conclusion\n",
    "\n",
    "To optimize sales and enhance inventory management, the marketing team should implement a multifaceted strategy. Firstly, promotional efforts should be concentrated on the top 10 high-demand items. By highlighting these products in marketing campaigns, the team can maximize sales and ensure that popular items are readily available to meet customer demand.\n",
    "\n",
    "In parallel, it is essential to address low-demand items. Offering discounts or clearance sales for the top 10 low-demand items can help clear out inventory that is not moving as quickly. This approach not only frees up valuable storage space but also provides an opportunity to attract price-sensitive customers and increase overall sales volume.\n",
    "\n",
    "Effective stock management is another critical component. The stockroom with the most inventory should be meticulously managed to ensure it is well-stocked with high-demand items. This proactive approach helps prevent stockouts, ensuring that customers can always find the products they are looking for, thereby enhancing customer satisfaction and loyalty.\n",
    "\n",
    "Lastly, a thorough analysis of the impact of pricing on sales is crucial. By understanding how different price points affect sales volume, the marketing team can make informed decisions to adjust prices strategically. This data-driven approach allows for the optimization of pricing strategies to maximize revenue, ensuring that the healthcare platform remains competitive and profitable.\n",
    "\n",
    "By integrating these strategies, the marketing team can create a balanced approach that not only drives sales but also maintains efficient inventory levels, ultimately contributing to the overall success of the healthcare platform.\n"
   ]
  }
 ],
 "metadata": {
  "kernelspec": {
   "display_name": "Python (learn-env)",
   "language": "python",
   "name": "learn-env"
  },
  "language_info": {
   "codemirror_mode": {
    "name": "ipython",
    "version": 3
   },
   "file_extension": ".py",
   "mimetype": "text/x-python",
   "name": "python",
   "nbconvert_exporter": "python",
   "pygments_lexer": "ipython3",
   "version": "3.10.13"
  }
 },
 "nbformat": 4,
 "nbformat_minor": 2
}
